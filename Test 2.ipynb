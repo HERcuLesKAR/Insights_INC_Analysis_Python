{
 "cells": [
  {
   "cell_type": "code",
   "execution_count": 1,
   "id": "a9133fe9-9b71-4272-ae11-d12dc00945d6",
   "metadata": {},
   "outputs": [
    {
     "name": "stderr",
     "output_type": "stream",
     "text": [
      "C:\\Users\\atul\\AppData\\Local\\Temp\\ipykernel_3408\\2886506654.py:25: UserWarning: Could not infer format, so each element will be parsed individually, falling back to `dateutil`. To ensure parsing is consistent and as-expected, please specify a format.\n",
      "  df['Actual Go-Live Date'] = pd.to_datetime(df['Actual Go-Live Date'], errors='coerce')\n"
     ]
    },
    {
     "name": "stdout",
     "output_type": "stream",
     "text": [
      "* Running on local URL:  http://127.0.0.1:7860\n",
      "\n",
      "To create a public link, set `share=True` in `launch()`.\n"
     ]
    },
    {
     "data": {
      "text/html": [
       "<div><iframe src=\"http://127.0.0.1:7860/\" width=\"100%\" height=\"500\" allow=\"autoplay; camera; microphone; clipboard-read; clipboard-write;\" frameborder=\"0\" allowfullscreen></iframe></div>"
      ],
      "text/plain": [
       "<IPython.core.display.HTML object>"
      ]
     },
     "metadata": {},
     "output_type": "display_data"
    },
    {
     "data": {
      "text/plain": []
     },
     "execution_count": 1,
     "metadata": {},
     "output_type": "execute_result"
    }
   ],
   "source": [
    "import pandas as pd\n",
    "import numpy as np\n",
    "import matplotlib.pyplot as plt\n",
    "import gradio as gr\n",
    "from datetime import datetime\n",
    "\n",
    "# Load the first sheet (project details) and second sheet (delay reasons)\n",
    "file_path = 'Insights INC. - Project Details - Dataset.xlsx'\n",
    "excel_data = pd.ExcelFile(file_path)\n",
    "\n",
    "# Load both sheets\n",
    "df1 = pd.read_excel(excel_data, sheet_name=0)  # First sheet (project details)\n",
    "df2 = pd.read_excel(excel_data, sheet_name=1)  # Second sheet (delay reasons)\n",
    "\n",
    "# Merge both dataframes on 'Project Code' (from df1) and 'Code' (from df2)\n",
    "df = pd.merge(df1, df2, left_on='Project Code', right_on='Code', how='left')\n",
    "\n",
    "# Clean column names\n",
    "df.columns = df.columns.str.strip()  # Strip any leading/trailing spaces from column names\n",
    "\n",
    "# Convert date columns to datetime format\n",
    "df['Planned Project Start Date'] = pd.to_datetime(df['Planned Project Start Date'], errors='coerce')\n",
    "df['Actual Project Start Date'] = pd.to_datetime(df['Actual Project Start Date'], errors='coerce')\n",
    "df['Planned Go-Live Date'] = pd.to_datetime(df['Planned Go-Live Date'], errors='coerce')\n",
    "df['Actual Go-Live Date'] = pd.to_datetime(df['Actual Go-Live Date'], errors='coerce')\n",
    "\n",
    "# Calculate additional columns for analysis\n",
    "df['Start Date Variance'] = (df['Actual Project Start Date'] - df['Planned Project Start Date']).dt.days\n",
    "df['Go-Live Date Variance'] = (df['Actual Go-Live Date'] - df['Planned Go-Live Date']).dt.days\n",
    "df['Project Duration'] = (df['Actual Go-Live Date'] - df['Actual Project Start Date']).dt.days\n",
    "df['Planned Duration'] = df['Planned Project Duration (Days)']\n",
    "\n",
    "# Ageing of WIP projects based on planned and actual go-live dates\n",
    "df['Ageing (Months)'] = (df['Actual Go-Live Date'].fillna(datetime.today()) - df['Actual Project Start Date']).dt.days / 30\n",
    "df['Ageing Category'] = pd.cut(df['Ageing (Months)'], bins=[0, 6, 12, 24, 36, float('inf')],\n",
    "                               labels=['< 6 Months', '6-12 Months', '1-2 Years', '2-3 Years', '> 3 Years'])\n",
    "\n",
    "# Identify delayed projects based on the actual go-live date vs planned go-live date\n",
    "df['Is Delayed'] = df['Go-Live Date Variance'].apply(lambda x: 'Delayed' if x > 0 else 'On Time')\n",
    "\n",
    "# Breakdown by Application\n",
    "app_breakdown = df.groupby('Application Name').agg({'Project Code': 'count', 'Project Value': 'sum'}).reset_index()\n",
    "\n",
    "# Projects by Status\n",
    "status_breakdown = df['Is Delayed'].value_counts().reset_index()\n",
    "status_breakdown.columns = ['Status', 'Count']\n",
    "\n",
    "# Vertical Head performance\n",
    "vertical_performance = df.groupby('Vertical Head').agg({'Go-Live Date Variance': 'mean', 'Project Value': 'sum'}).reset_index()\n",
    "\n",
    "# Function to generate all the plots\n",
    "def generate_dashboard():\n",
    "    # KPIs\n",
    "    total_projects = len(df)\n",
    "    delayed_projects = len(df[df['Is Delayed'] == 'Delayed'])\n",
    "    total_revenue = df['Project Value'].sum()\n",
    "    avg_project_duration = df['Project Duration'].mean()\n",
    "\n",
    "    # Create KPI text elements\n",
    "    kpi_text = f\"\"\"\n",
    "    Total Projects: {total_projects}\n",
    "    Delayed Projects: {delayed_projects}\n",
    "    Total Revenue: ${total_revenue:,.2f}\n",
    "    Average Project Duration: {avg_project_duration:.1f} days\n",
    "    \"\"\"\n",
    "\n",
    "    # Visualization 1: Status of Projects (Delayed vs On Time)\n",
    "    fig1, ax1 = plt.subplots()\n",
    "    ax1.pie(status_breakdown['Count'], labels=status_breakdown['Status'], autopct='%1.1f%%', startangle=90)\n",
    "    ax1.set_title('Project Status Breakdown (Delayed vs On Time)')\n",
    "\n",
    "    # Visualization 2: Application-wise Project and Revenue Breakdown\n",
    "    fig2, ax2 = plt.subplots()\n",
    "    ax2.bar(app_breakdown['Application Name'], app_breakdown['Project Code'], label='Projects')\n",
    "    ax2.set_title('Revenue and Project Breakdown by Application')\n",
    "    ax2.set_xlabel('Application Name')\n",
    "    ax2.set_ylabel('Count of Projects')\n",
    "\n",
    "    # Visualization 3: Vertical Head Performance\n",
    "    fig3, ax3 = plt.subplots()\n",
    "    ax3.bar(vertical_performance['Vertical Head'], vertical_performance['Project Value'], label='Revenue')\n",
    "    ax3.set_title('Vertical Head Performance (Revenue)')\n",
    "    ax3.set_xlabel('Vertical Head')\n",
    "    ax3.set_ylabel('Total Revenue')\n",
    "\n",
    "    # Visualization 4: WIP Projects by Ageing\n",
    "    fig4, ax4 = plt.subplots()\n",
    "    df['Ageing Category'].value_counts().plot(kind='bar', ax=ax4)\n",
    "    ax4.set_title('Ageing Breakdown of WIP Projects')\n",
    "    ax4.set_xlabel('Ageing Categories')\n",
    "    ax4.set_ylabel('Number of Projects')\n",
    "\n",
    "    # Show the plots\n",
    "    plt.tight_layout()\n",
    "    return kpi_text, fig1, fig2, fig3, fig4\n",
    "\n",
    "# Gradio Interface for Dashboard with Layout\n",
    "dashboard_interface = gr.Interface(fn=generate_dashboard, \n",
    "                                   inputs=[], \n",
    "                                   outputs=[gr.Textbox(), gr.Plot(), gr.Plot(), gr.Plot(), gr.Plot()],\n",
    "                                   live=True, \n",
    "                                   description=\"Interactive Dashboard for Project Performance Analysis\")\n",
    "\n",
    "# Launch the dashboard\n",
    "dashboard_interface.launch()\n"
   ]
  },
  {
   "cell_type": "code",
   "execution_count": null,
   "id": "780ec578-67e6-4779-92ca-ce2e0da83bc7",
   "metadata": {},
   "outputs": [],
   "source": []
  }
 ],
 "metadata": {
  "kernelspec": {
   "display_name": "Python 3 (ipykernel)",
   "language": "python",
   "name": "python3"
  },
  "language_info": {
   "codemirror_mode": {
    "name": "ipython",
    "version": 3
   },
   "file_extension": ".py",
   "mimetype": "text/x-python",
   "name": "python",
   "nbconvert_exporter": "python",
   "pygments_lexer": "ipython3",
   "version": "3.11.2"
  }
 },
 "nbformat": 4,
 "nbformat_minor": 5
}
